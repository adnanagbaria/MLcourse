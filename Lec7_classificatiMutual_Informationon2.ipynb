{
  "nbformat": 4,
  "nbformat_minor": 0,
  "metadata": {
    "colab": {
      "provenance": [],
      "authorship_tag": "ABX9TyNjq0GbBm/IYvLJcIl/WzSp",
      "include_colab_link": true
    },
    "kernelspec": {
      "name": "python3",
      "display_name": "Python 3"
    },
    "language_info": {
      "name": "python"
    }
  },
  "cells": [
    {
      "cell_type": "markdown",
      "metadata": {
        "id": "view-in-github",
        "colab_type": "text"
      },
      "source": [
        "<a href=\"https://colab.research.google.com/github/adnanagbaria/MLcourse/blob/main/Lec7_classificatiMutual_Informationon2.ipynb\" target=\"_parent\"><img src=\"https://colab.research.google.com/assets/colab-badge.svg\" alt=\"Open In Colab\"/></a>"
      ]
    },
    {
      "cell_type": "markdown",
      "source": [
        "# Classification - part 2\n",
        "Agenda:\n",
        "* Entropy\n",
        "* Mutual Information\n",
        "* Decision Tree Classifier\n",
        "* Model Evaluation"
      ],
      "metadata": {
        "id": "KreyesWWZ_yw"
      }
    }
  ]
}