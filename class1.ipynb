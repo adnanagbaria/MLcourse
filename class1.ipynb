{
  "nbformat": 4,
  "nbformat_minor": 0,
  "metadata": {
    "colab": {
      "provenance": [],
      "authorship_tag": "ABX9TyPW1UHp3vklpcrZ2i3nfLSN",
      "include_colab_link": true
    },
    "kernelspec": {
      "name": "python3",
      "display_name": "Python 3"
    },
    "language_info": {
      "name": "python"
    }
  },
  "cells": [
    {
      "cell_type": "markdown",
      "metadata": {
        "id": "view-in-github",
        "colab_type": "text"
      },
      "source": [
        "<a href=\"https://colab.research.google.com/github/adnanagbaria/MLcourse/blob/main/class1.ipynb\" target=\"_parent\"><img src=\"https://colab.research.google.com/assets/colab-badge.svg\" alt=\"Open In Colab\"/></a>"
      ]
    },
    {
      "cell_type": "code",
      "source": [
        "# prompt: Create data of 50 elements randomly and print\n",
        "\n",
        "import random\n",
        "\n",
        "data = [random.random() for _ in range(50)]\n",
        "data"
      ],
      "metadata": {
        "colab": {
          "base_uri": "https://localhost:8080/"
        },
        "collapsed": true,
        "id": "-mtaAEEDr8mW",
        "outputId": "b821c8f6-8935-47f8-b3b5-f7a80880df4a"
      },
      "execution_count": null,
      "outputs": [
        {
          "output_type": "execute_result",
          "data": {
            "text/plain": [
              "[0.2335806577706495,\n",
              " 0.9614563725356756,\n",
              " 0.8730185921008118,\n",
              " 0.7704393735269133,\n",
              " 0.8555771742093833,\n",
              " 0.8532044185345485,\n",
              " 0.3216627854980596,\n",
              " 0.3246286405063429,\n",
              " 0.1723991309643318,\n",
              " 0.09611210753808297,\n",
              " 0.2388669329772587,\n",
              " 0.838966371734931,\n",
              " 0.7647204873490081,\n",
              " 0.36948311440494885,\n",
              " 0.7611154095473492,\n",
              " 0.5079536545383982,\n",
              " 0.8851166901456473,\n",
              " 0.38537977502780596,\n",
              " 0.4017023711389901,\n",
              " 0.9379367964606953,\n",
              " 0.5772347043800985,\n",
              " 0.49164971622160514,\n",
              " 0.5714010938648578,\n",
              " 0.20712407871208394,\n",
              " 0.7610954785773155,\n",
              " 0.9365332042676504,\n",
              " 0.2010788453306156,\n",
              " 0.9158183800414507,\n",
              " 0.4802857454155335,\n",
              " 0.307926141650152,\n",
              " 0.9338097763775287,\n",
              " 0.5694335034554033,\n",
              " 0.2761499434628477,\n",
              " 0.35233869119136996,\n",
              " 0.5048631588659024,\n",
              " 0.08763284377050162,\n",
              " 0.15752291200207857,\n",
              " 0.5594609589560138,\n",
              " 0.7269461167077476,\n",
              " 0.6463220752820836,\n",
              " 0.7345304758359068,\n",
              " 0.09850819274183531,\n",
              " 0.16196670458600337,\n",
              " 0.09103988766918436,\n",
              " 0.9791078786765698,\n",
              " 0.35263678237661966,\n",
              " 0.38534345709450035,\n",
              " 0.13379271981427054,\n",
              " 0.23943175424776464,\n",
              " 0.34232495942750796]"
            ]
          },
          "metadata": {},
          "execution_count": 3
        }
      ]
    },
    {
      "cell_type": "code",
      "source": [
        "# prompt: create data of 50 elements representing the heights of any community, the elements are integers\n",
        "\n",
        "import random\n",
        "\n",
        "# The heights are integers.\n",
        "data = [random.randint(150, 200) for _ in range(50)]\n",
        "data"
      ],
      "metadata": {
        "colab": {
          "base_uri": "https://localhost:8080/"
        },
        "collapsed": true,
        "id": "bqEq0pqOsQvE",
        "outputId": "03196ca1-cce5-4146-dd7a-f297cb468381"
      },
      "execution_count": null,
      "outputs": [
        {
          "output_type": "execute_result",
          "data": {
            "text/plain": [
              "[192,\n",
              " 168,\n",
              " 160,\n",
              " 194,\n",
              " 162,\n",
              " 195,\n",
              " 185,\n",
              " 156,\n",
              " 199,\n",
              " 153,\n",
              " 174,\n",
              " 195,\n",
              " 154,\n",
              " 191,\n",
              " 156,\n",
              " 192,\n",
              " 184,\n",
              " 172,\n",
              " 179,\n",
              " 187,\n",
              " 177,\n",
              " 193,\n",
              " 166,\n",
              " 182,\n",
              " 178,\n",
              " 198,\n",
              " 189,\n",
              " 180,\n",
              " 173,\n",
              " 158,\n",
              " 200,\n",
              " 160,\n",
              " 200,\n",
              " 156,\n",
              " 185,\n",
              " 158,\n",
              " 155,\n",
              " 169,\n",
              " 198,\n",
              " 190,\n",
              " 191,\n",
              " 180,\n",
              " 151,\n",
              " 161,\n",
              " 159,\n",
              " 199,\n",
              " 182,\n",
              " 159,\n",
              " 160,\n",
              " 179]"
            ]
          },
          "metadata": {},
          "execution_count": 5
        }
      ]
    },
    {
      "cell_type": "code",
      "source": [
        "# prompt: show data in a histogram\n",
        "\n",
        "import matplotlib.pyplot as plt\n",
        "\n",
        "plt.hist(data, bins=10)\n",
        "plt.xlabel('Value')\n",
        "plt.ylabel('Frequency')\n",
        "plt.title('Histogram of Data')\n",
        "plt.show()"
      ],
      "metadata": {
        "colab": {
          "base_uri": "https://localhost:8080/",
          "height": 472
        },
        "id": "AFONzmixs8m3",
        "outputId": "12b73f1c-b74e-4065-c5e9-bbb1e33a3ee1"
      },
      "execution_count": null,
      "outputs": [
        {
          "output_type": "display_data",
          "data": {
            "text/plain": [
              "<Figure size 640x480 with 1 Axes>"
            ],
            "image/png": "[encoded data removed]"
          },
          "metadata": {}
        }
      ]
    },
    {
      "cell_type": "code",
      "source": [
        "# prompt: calculate the mean, variance, and standard deviation of data\n",
        "\n",
        "import numpy as np\n",
        "\n",
        "mean_data = np.mean(data)\n",
        "variance_data = np.var(data)\n",
        "std_dev_data = np.std(data)\n",
        "\n",
        "print(f\"Mean: {mean_data}\")\n",
        "print(f\"Variance: {variance_data}\")\n",
        "print(f\"Standard Deviation: {std_dev_data}\")\n"
      ],
      "metadata": {
        "colab": {
          "base_uri": "https://localhost:8080/"
        },
        "id": "zYbztOYJvnj2",
        "outputId": "5341250b-d8bc-48c8-9472-7fb8fb11c3b0"
      },
      "execution_count": null,
      "outputs": [
        {
          "output_type": "stream",
          "name": "stdout",
          "text": [
            "Mean: 176.68\n",
            "Variance: 244.53760000000003\n",
            "Standard Deviation: 15.637698040312712\n"
          ]
        }
      ]
    },
    {
      "cell_type": "code",
      "source": [
        "# prompt: create a data about the ages, corresponding to 'data'\n",
        "\n",
        "ages = [random.randint(18, 65) for _ in range(50)]\n",
        "ages"
      ],
      "metadata": {
        "colab": {
          "base_uri": "https://localhost:8080/"
        },
        "collapsed": true,
        "id": "JC3BYIi10xbo",
        "outputId": "b4dfb1a4-7670-4b22-a0ed-dff89245d11c"
      },
      "execution_count": null,
      "outputs": [
        {
          "output_type": "execute_result",
          "data": {
            "text/plain": [
              "[60,\n",
              " 23,\n",
              " 52,\n",
              " 39,\n",
              " 47,\n",
              " 43,\n",
              " 39,\n",
              " 57,\n",
              " 39,\n",
              " 59,\n",
              " 44,\n",
              " 50,\n",
              " 20,\n",
              " 47,\n",
              " 65,\n",
              " 33,\n",
              " 34,\n",
              " 65,\n",
              " 26,\n",
              " 63,\n",
              " 51,\n",
              " 22,\n",
              " 41,\n",
              " 18,\n",
              " 41,\n",
              " 18,\n",
              " 20,\n",
              " 60,\n",
              " 25,\n",
              " 41,\n",
              " 52,\n",
              " 50,\n",
              " 35,\n",
              " 27,\n",
              " 21,\n",
              " 36,\n",
              " 41,\n",
              " 58,\n",
              " 65,\n",
              " 35,\n",
              " 59,\n",
              " 35,\n",
              " 59,\n",
              " 59,\n",
              " 38,\n",
              " 25,\n",
              " 64,\n",
              " 51,\n",
              " 51,\n",
              " 36]"
            ]
          },
          "metadata": {},
          "execution_count": 8
        }
      ]
    },
    {
      "cell_type": "code",
      "source": [
        "# prompt: draw age and data together\n",
        "\n",
        "import matplotlib.pyplot as plt\n",
        "plt.scatter(ages, data)\n",
        "plt.xlabel('Age')\n",
        "plt.ylabel('Data')\n",
        "plt.title('Scatter Plot of Age vs Data')\n",
        "plt.show()"
      ],
      "metadata": {
        "colab": {
          "base_uri": "https://localhost:8080/",
          "height": 472
        },
        "id": "glpT6Lqm1BQw",
        "outputId": "a42fc15b-f06d-46bb-c118-58ce99bb75d4"
      },
      "execution_count": null,
      "outputs": [
        {
          "output_type": "display_data",
          "data": {
            "text/plain": [
              "<Figure size 640x480 with 1 Axes>"
            ],
            "image/png": "[encoded data removed]"
          },
          "metadata": {}
        }
      ]
    },
    {
      "cell_type": "code",
      "source": [
        "# prompt: calculate the covariance and correlation of age and data\n",
        "\n",
        "import numpy as np\n",
        "covariance = np.cov(ages, data)[0, 1]\n",
        "correlation = np.corrcoef(ages, data)[0, 1]\n",
        "\n",
        "print(f\"Covariance: {covariance}\")\n",
        "print(f\"Correlation: {correlation}\")"
      ],
      "metadata": {
        "colab": {
          "base_uri": "https://localhost:8080/"
        },
        "id": "oqn92nl-1Iu0",
        "outputId": "3918c03b-f5ab-4ef2-e758-c4ab75b31e42"
      },
      "execution_count": null,
      "outputs": [
        {
          "output_type": "stream",
          "name": "stdout",
          "text": [
            "Covariance: -43.418775510204085\n",
            "Correlation: -0.19065327264267057\n"
          ]
        }
      ]
    }
  ]
}