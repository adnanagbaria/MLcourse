{
  "nbformat": 4,
  "nbformat_minor": 0,
  "metadata": {
    "colab": {
      "provenance": [],
      "authorship_tag": "ABX9TyPmRI3GzlUXMrOvJwCvY5BF",
      "include_colab_link": true
    },
    "kernelspec": {
      "name": "python3",
      "display_name": "Python 3"
    },
    "language_info": {
      "name": "python"
    }
  },
  "cells": [
    {
      "cell_type": "markdown",
      "metadata": {
        "id": "view-in-github",
        "colab_type": "text"
      },
      "source": [
        "<a href=\"https://colab.research.google.com/github/adnanagbaria/MLcourse/blob/main/Lec6_classification1.ipynb\" target=\"_parent\"><img src=\"https://colab.research.google.com/assets/colab-badge.svg\" alt=\"Open In Colab\"/></a>"
      ]
    },
    {
      "cell_type": "markdown",
      "source": [
        "# Classification: part 1\n",
        "Agenda:\n",
        "* Classification Tasks in ML\n",
        "* Logistic Regression\n",
        "* K-Nearest Neighbors (K-NN)\n",
        "* Support Vector Machines (SVM)\n",
        "* Kernel SVM\n",
        "* Bayes Theorem\n",
        "* Naive Bayes"
      ],
      "metadata": {
        "id": "C5VqZHlb4iLa"
      }
    },
    {
      "cell_type": "markdown",
      "source": [
        "# Classification Tasks in Machine Learning\n",
        "Classification is a type of supervised learning where the goal is to assign input data to discrete categories or labels.\n",
        "\n",
        "To build models that predict class membership for new, unseen data based on patterns learned from labeled training data.\n",
        "\n",
        "**Common Examples:**\n",
        "* Email Spam Detection → Spam / Not Spam\n",
        "* Medical Diagnosis → Disease / No Disease\n",
        "* Credit Approval → Approved / Rejected\n",
        "* Image Recognition → Dog / Cat / Car / Tree\n",
        "* Customer Churn Prediction → Will Leave / Will Stay"
      ],
      "metadata": {
        "id": "ShvSIig25T3q"
      }
    }
  ]
}