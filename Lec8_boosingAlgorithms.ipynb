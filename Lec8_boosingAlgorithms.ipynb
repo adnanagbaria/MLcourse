{
  "nbformat": 4,
  "nbformat_minor": 0,
  "metadata": {
    "colab": {
      "provenance": [],
      "authorship_tag": "ABX9TyNqCBU2XASUGnAPRBE8DhyJ",
      "include_colab_link": true
    },
    "kernelspec": {
      "name": "python3",
      "display_name": "Python 3"
    },
    "language_info": {
      "name": "python"
    }
  },
  "cells": [
    {
      "cell_type": "markdown",
      "metadata": {
        "id": "view-in-github",
        "colab_type": "text"
      },
      "source": [
        "<a href=\"https://colab.research.google.com/github/adnanagbaria/MLcourse/blob/main/Lec8_boosingAlgorithms.ipynb\" target=\"_parent\"><img src=\"https://colab.research.google.com/assets/colab-badge.svg\" alt=\"Open In Colab\"/></a>"
      ]
    },
    {
      "cell_type": "markdown",
      "source": [
        "# Boosting algorithms\n",
        "Agenda\n",
        "* Gradient Boosting: Regression concept\n",
        "* Gradient Boosting: Regression Calculation\n",
        "* Gradient Boosting: Classification concept\n",
        "* Gradient Boosting: Calculation"
      ],
      "metadata": {
        "id": "qFQtyPayXpzK"
      }
    }
  ]
}