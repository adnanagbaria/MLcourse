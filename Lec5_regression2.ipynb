{
  "nbformat": 4,
  "nbformat_minor": 0,
  "metadata": {
    "colab": {
      "provenance": [],
      "authorship_tag": "ABX9TyMfVqtd8ukH9XBXHhWOh8GX",
      "include_colab_link": true
    },
    "kernelspec": {
      "name": "python3",
      "display_name": "Python 3"
    },
    "language_info": {
      "name": "python"
    }
  },
  "cells": [
    {
      "cell_type": "markdown",
      "metadata": {
        "id": "view-in-github",
        "colab_type": "text"
      },
      "source": [
        "<a href=\"https://colab.research.google.com/github/adnanagbaria/MLcourse/blob/main/Lec5_regression2.ipynb\" target=\"_parent\"><img src=\"https://colab.research.google.com/assets/colab-badge.svg\" alt=\"Open In Colab\"/></a>"
      ]
    },
    {
      "cell_type": "markdown",
      "source": [
        "# Regression part 2\n",
        "**Agenda:**\n",
        "* Polynomial regression\n",
        "* Support Vector Regression (SVR)\n",
        "* Non-linear SVR\n",
        "* Decision Tree Regression\n",
        "* Random Forest\n",
        "* Evaluation of Regression Models\n",
        "* Practice & Implementation"
      ],
      "metadata": {
        "id": "SZPhJlLLsaCc"
      }
    }
  ]
}