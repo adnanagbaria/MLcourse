{
  "nbformat": 4,
  "nbformat_minor": 0,
  "metadata": {
    "colab": {
      "provenance": [],
      "authorship_tag": "ABX9TyMQVDhHi71lJb525aDec6ho",
      "include_colab_link": true
    },
    "kernelspec": {
      "name": "python3",
      "display_name": "Python 3"
    },
    "language_info": {
      "name": "python"
    }
  },
  "cells": [
    {
      "cell_type": "markdown",
      "metadata": {
        "id": "view-in-github",
        "colab_type": "text"
      },
      "source": [
        "<a href=\"https://colab.research.google.com/github/adnanagbaria/MLcourse/blob/main/Lec4_regression.ipynb\" target=\"_parent\"><img src=\"https://colab.research.google.com/assets/colab-badge.svg\" alt=\"Open In Colab\"/></a>"
      ]
    },
    {
      "cell_type": "markdown",
      "source": [
        "# Regression\n",
        "Agenda:\n",
        "* Regression tasks in ML\n",
        "* The main Idea of Fitting a Line to Data\n",
        "* Linear Regression\n",
        "* Multiple Linear Regression\n",
        "* Using Linear models for t-tests and ANOVA\n",
        "* Design Matrices for Linear Models\n",
        "* Regularization L2: Ridge Regression\n",
        "* Regularization L1: Lasso Regression\n",
        "* Ridge and Lasso Regression Visualized\n",
        "* Regularization Elastic Net Regression\n",
        "* Assumptions of Linear Regression\n",
        "* Gradient Descent\n",
        "* Stochastic Gradient Descent"
      ],
      "metadata": {
        "id": "N0r95gZxAdVr"
      }
    },
    {
      "cell_type": "markdown",
      "source": [
        "**Regression** is a fundamental concept in machine learning and statistics used to model the relationship between a dependent variable (what you're trying to predict) and one or more independent variables (features or inputs).\n",
        "\n",
        "**In Machine Learning:** Regression is a supervised learning task where the model learns from labeled data to predict numeric outcomes.\n",
        "\n",
        "# Linear Regression\n",
        "Models a straight-line relationship: $y = a x + b$,\n",
        "where $y$ is the predicted value, $x$ is the input, $a$ is the slope, and\n",
        "$b$ is the intercept.\n",
        "\n",
        "**Multiple Linear Regression:** Involves multiple input variables:\n",
        "\n",
        "$y = a_1x_1 + \\cdots + a_nx_n + b$"
      ],
      "metadata": {
        "id": "qLiaEt-JCF1B"
      }
    },
    {
      "cell_type": "markdown",
      "source": [
        "# Least Squares\n",
        "The Least Squares method is a standard approach used in linear regression to find the best-fitting line through a set of data points.\n",
        "\n",
        "minimize the sum of squared differences between the observed actual outcomes and the outcomes predicted by the linear model.\n",
        "\n",
        "**Mathematically:** Given data points $(x_1,y_1), \\cdots, (x_n, y_n)$ and the line:\n",
        "\n",
        "$\\hat{y} = ax + b$\n",
        "\n",
        "The residual for each point is: $e_i = y_i - \\hat{y_i} = y_i - (ax_i + b)$\n",
        "\n",
        "Least Squares Error (objective function) is:\n",
        "\n",
        "SSE = $\\Sigma_{i=1}^n(y_i -(ax_i + b))^2$\n",
        "\n",
        "We want to find the values of $a$ and $b$ that minimize SSE.\n",
        "\n",
        "(shoe thw Slides 4 to 16 of ML_04)"
      ],
      "metadata": {
        "id": "8IUzyS1lXLSz"
      }
    },
    {
      "cell_type": "code",
      "source": [
        "# prompt: give an example of Least Squares\n",
        "\n",
        "import numpy as np\n",
        "import matplotlib.pyplot as plt\n",
        "\n",
        "# Generate some sample data\n",
        "np.random.seed(0)\n",
        "X = 2 * np.random.rand(100, 1)\n",
        "y = 4 + 3 * X + np.random.randn(100, 1)\n",
        "\n",
        "# Add a bias term (intercept) to X\n",
        "X_b = np.c_[np.ones((100, 1)), X]\n",
        "\n",
        "# Calculate the coefficients using the Normal Equation (Least Squares solution)\n",
        "# The formula is: theta = (X_b^T * X_b)^(-1) * X_b^T * y\n",
        "theta_best = np.linalg.inv(X_b.T.dot(X_b)).dot(X_b.T).dot(y)\n",
        "\n",
        "print(\"Coefficients (intercept, slope):\")\n",
        "print(theta_best)\n",
        "\n",
        "# Predict values using the calculated coefficients\n",
        "X_new = np.array([[0], [2]])\n",
        "X_new_b = np.c_[np.ones((2, 1)), X_new]\n",
        "y_predict = X_new_b.dot(theta_best)\n",
        "\n",
        "# Plot the original data and the fitted line\n",
        "plt.plot(X_new, y_predict, \"r-\")\n",
        "plt.plot(X, y, \"b.\")\n",
        "plt.xlabel(\"$x_1$\", fontsize=18)\n",
        "plt.ylabel(\"$y$\", rotation=0, fontsize=18)\n",
        "plt.axis([0, 2, 0, 15])\n",
        "plt.title(\"Least Squares Fit\")\n",
        "plt.grid(True)\n",
        "plt.show()"
      ],
      "metadata": {
        "colab": {
          "base_uri": "https://localhost:8080/",
          "height": 534
        },
        "id": "wG0DebkGc2CS",
        "outputId": "2b738a9e-6219-48f6-be6f-306b535cb6af"
      },
      "execution_count": null,
      "outputs": [
        {
          "output_type": "stream",
          "name": "stdout",
          "text": [
            "Coefficients (intercept, slope):\n",
            "[[4.22215108]\n",
            " [2.96846751]]\n"
          ]
        },
        {
          "output_type": "display_data",
          "data": {
            "text/plain": [
              "<Figure size 640x480 with 1 Axes>"
            ],
            "image/png": "[encoded data removed]"
          },
          "metadata": {}
        }
      ]
    },
    {
      "cell_type": "markdown",
      "source": [
        "# Step-by-Step: Analytical Solution (Simple Linear Regression)\n",
        "Given data points $(x_1,y_1), \\cdots, (x_n, y_n)$, use these formulas:\n",
        "1. Calculat slope $a = \\frac{\\Sigma((x_i - \\bar{x})(y_i - \\bar{y}))}{\\Sigma(x_i - \\bar{x})^2}$\n",
        "2. Intercept $b= \\bar{y} - a\\bar{x}$\n",
        "\n"
      ],
      "metadata": {
        "id": "pKqJ25ssnq3p"
      }
    },
    {
      "cell_type": "code",
      "source": [
        "import numpy as np\n",
        "\n",
        "x = np.array([1, 2, 3])\n",
        "y = np.array([2, 3, 5])\n",
        "\n",
        "x_mean = np.mean(x)\n",
        "y_mean = np.mean(y)\n",
        "\n",
        "a = np.sum((x - x_mean) * (y - y_mean)) / np.sum((x - x_mean) ** 2)\n",
        "b = y_mean - a * x_mean\n",
        "\n",
        "print(f\"Slope (a): {a}\")\n",
        "print(f\"Intercept (b): {b}\")\n"
      ],
      "metadata": {
        "colab": {
          "base_uri": "https://localhost:8080/"
        },
        "id": "3ttkBdI6pQ-S",
        "outputId": "e9ff307a-1b4c-4abb-fd87-0be19fbfbe56"
      },
      "execution_count": null,
      "outputs": [
        {
          "output_type": "stream",
          "name": "stdout",
          "text": [
            "Slope (a): 1.5\n",
            "Intercept (b): 0.3333333333333335\n"
          ]
        }
      ]
    },
    {
      "cell_type": "markdown",
      "source": [
        "# Linear Regrission\n",
        "(shoe thw Slides 17 to 51 of ML_04)"
      ],
      "metadata": {
        "id": "YJESZjjcdtA6"
      }
    },
    {
      "cell_type": "code",
      "source": [
        "# Linear Regression from Scratch (No Libraries)\n",
        "import numpy as np\n",
        "import matplotlib.pyplot as plt\n",
        "\n",
        "# Sample data\n",
        "x = np.array([1, 2, 3, 4, 5])\n",
        "y = np.array([2, 4, 5, 4, 5])\n",
        "\n",
        "# Step 1: Calculate means\n",
        "x_mean = np.mean(x)\n",
        "y_mean = np.mean(y)\n",
        "\n",
        "# Step 2: Calculate coefficients\n",
        "numerator = np.sum((x - x_mean) * (y - y_mean))\n",
        "denominator = np.sum((x - x_mean) ** 2)\n",
        "a = numerator / denominator\n",
        "b = y_mean - a * x_mean\n",
        "\n",
        "# Step 3: Predict values\n",
        "y_pred = a * x + b\n",
        "\n",
        "# Step 4: Plot\n",
        "plt.scatter(x, y, color='blue', label='Actual data')\n",
        "plt.plot(x, y_pred, color='red', label=f'Fitted line: y={a:.2f}x + {b:.2f}')\n",
        "plt.xlabel(\"x\")\n",
        "plt.ylabel(\"y\")\n",
        "plt.title(\"Linear Regression Example\")\n",
        "plt.legend()\n",
        "plt.grid(True)\n",
        "plt.show()\n"
      ],
      "metadata": {
        "colab": {
          "base_uri": "https://localhost:8080/",
          "height": 472
        },
        "id": "I1QZy63lp-Ay",
        "outputId": "de4995a5-2549-484e-dded-35909a698d89"
      },
      "execution_count": null,
      "outputs": [
        {
          "output_type": "display_data",
          "data": {
            "text/plain": [
              "<Figure size 640x480 with 1 Axes>"
            ],
            "image/png": "[encoded data removed]"
          },
          "metadata": {}
        }
      ]
    },
    {
      "cell_type": "code",
      "source": [
        "# prompt: Give an example of linear regression\n",
        "\n",
        "import matplotlib.pyplot as plt\n",
        "import numpy as np\n",
        "from sklearn.linear_model import LinearRegression\n",
        "from sklearn.model_selection import train_test_split\n",
        "from sklearn.metrics import mean_squared_error, r2_score\n",
        "\n",
        "# Generate more complex sample data\n",
        "np.random.seed(42)\n",
        "X = 2 * np.random.rand(100, 1)\n",
        "y = 4 + 3 * X + np.random.randn(100, 1)\n",
        "\n",
        "# Split data into training and testing sets\n",
        "X_train, X_test, y_train, y_test = train_test_split(X, y, test_size=0.2, random_state=42)\n",
        "\n",
        "# Create a Linear Regression model\n",
        "model = LinearRegression()\n",
        "\n",
        "# Train the model using the training data\n",
        "model.fit(X_train, y_train)\n",
        "\n",
        "# Make predictions on the test data\n",
        "y_pred = model.predict(X_test)\n",
        "\n",
        "# Print the coefficients (slope) and intercept\n",
        "print(\"Intercept:\", model.intercept_)\n",
        "print(\"Coefficient (Slope):\", model.coef_)\n",
        "\n",
        "# Evaluate the model\n",
        "mse = mean_squared_error(y_test, y_pred)\n",
        "r2 = r2_score(y_test, y_pred)\n",
        "\n",
        "print(\"Mean Squared Error (MSE):\", mse)\n",
        "print(\"R-squared (R2):\", r2)\n",
        "\n",
        "# Plot the original data and the fitted line\n",
        "plt.scatter(X_test, y_test, color='blue', label='Actual test data')\n",
        "plt.plot(X_test, y_pred, color='red', linewidth=2, label=f'Fitted line: y={model.coef_[0][0]:.2f}x + {model.intercept_[0]:.2f}')\n",
        "plt.xlabel(\"x\")\n",
        "plt.ylabel(\"y\")\n",
        "plt.title(\"Linear Regression with scikit-learn\")\n",
        "plt.legend()\n",
        "plt.grid(True)\n",
        "plt.show()\n",
        "\n"
      ],
      "metadata": {
        "colab": {
          "base_uri": "https://localhost:8080/",
          "height": 541
        },
        "id": "X8HX3Z6QeBGq",
        "outputId": "e817b422-1933-4cfc-b7c7-e9d65fab90cb"
      },
      "execution_count": null,
      "outputs": [
        {
          "output_type": "stream",
          "name": "stdout",
          "text": [
            "Intercept: [4.14291332]\n",
            "Coefficient (Slope): [[2.79932366]]\n",
            "Mean Squared Error (MSE): 0.6536995137170021\n",
            "R-squared (R2): 0.8072059636181392\n"
          ]
        },
        {
          "output_type": "display_data",
          "data": {
            "text/plain": [
              "<Figure size 640x480 with 1 Axes>"
            ],
            "image/png": "[encoded data removed]"
          },
          "metadata": {}
        }
      ]
    },
    {
      "cell_type": "markdown",
      "source": [
        "# Multiple Linear Regression\n",
        "Multiple Linear Regression is an extension of simple linear regression where we model the relationship between a dependent variable and two or more independent variables.\n",
        "\n",
        "**The Formula:**\n",
        "\n",
        "$y = b_0 + b_1x_1 + b_2x_2 + \\cdots + b_nx_b$\n",
        "\n",
        "**Example:** Predicting house price using:\n",
        "* Number of bedrooms\n",
        "* Square footage\n",
        "* Age of the house\n",
        "\n",
        "Price = $b_0 + b_1$Bedrooms + $b_2$Size + $b_3$Age"
      ],
      "metadata": {
        "id": "dG73-RF2rL76"
      }
    },
    {
      "cell_type": "code",
      "source": [
        "import numpy as np\n",
        "\n",
        "# Sample data (2 features)\n",
        "# x: shape (n_samples, n_features)\n",
        "X = np.array([\n",
        "    [1, 1],\n",
        "    [1, 2],\n",
        "    [2, 2],\n",
        "    [2, 3]\n",
        "])\n",
        "# y: shape (n_samples,)\n",
        "y = np.dot(X, np.array([1, 2])) + 3  # y = 1*x1 + 2*x2 + 3\n",
        "\n",
        "# Add intercept (bias) term to X\n",
        "X_b = np.c_[np.ones((X.shape[0], 1)), X]  # Add a column of ones\n",
        "\n",
        "# Calculate weights using Normal Equation: θ = (XᵀX)⁻¹ Xᵀy\n",
        "theta_best = np.linalg.inv(X_b.T.dot(X_b)).dot(X_b.T).dot(y)\n",
        "\n",
        "print(\"Intercept and coefficients:\", theta_best)\n"
      ],
      "metadata": {
        "colab": {
          "base_uri": "https://localhost:8080/"
        },
        "id": "yL2rvtiyw4AH",
        "outputId": "503e639f-c43e-40ab-cec5-ce29284e2d0f"
      },
      "execution_count": null,
      "outputs": [
        {
          "output_type": "stream",
          "name": "stdout",
          "text": [
            "Intercept and coefficients: [3. 1. 2.]\n"
          ]
        }
      ]
    },
    {
      "cell_type": "markdown",
      "source": [
        "# Using Linear models for t-tests and ANOVA\n",
        "Using linear models for t-tests and ANOVA (Analysis of Variance) involves leveraging regression to evaluate statistical significance of predictors or group differences. Here’s how that works.\n",
        "\n",
        "##Linear Models and t-tests\n",
        "A t-test checks if a single coefficient in a linear model is significantly different from zero.\n",
        "\n",
        "**In Regression:**\n",
        "* Suppose your model is $y = \\beta_0 + \\beta_1x + ϵ$\n",
        "* A t-test on $\\beta_1$ checks whether the predictor $x$ has a statistically significant effect on $y$\n",
        "\n",
        "  $t = \\frac{\\hat{\\beta_1}}{SE(\\hat{\\beta_1})}$\n",
        "\n",
        "* $\\hat{\\beta_1}$: estimated coefficient\n",
        "* $SE(\\hat{\\beta_1})$: standard error of the coefficient\n",
        "\n",
        "If the p-value for the t-statistic is low (typically < 0.05), you reject the null hypothesis that $\\beta_1=0$\n",
        "\n",
        "##Linear Models and ANOVA\n",
        "ANOVA is used to compare variances across multiple groups — essentially, it checks if group means differ significantly.\n",
        "\n",
        "**In Regression:**\n",
        "* Encode group membership as dummy variables in a linear model.\n",
        "* Use F-statistic to test whether any of the group predictors have a significant effect on the outcome.\n",
        "\n",
        "F = Variance explained by the model/Variance NOT explained\n",
        "\n",
        "This tells you if the overall model is significant.\n",
        "\n",
        "**Example:**\n",
        "Let’s say you're testing if two diets lead to different weight loss outcomes:\n",
        "* Encode diets as categorical variables in regression\n",
        "* Run regression: WeightLoss = $\\beta_0 + \\beta_1 Diet_1 + \\beta_2 Diet_2 + ϵ$\n",
        "* Use ANOVA to see if at least one diet is significantly different"
      ],
      "metadata": {
        "id": "89K72mryy1pI"
      }
    },
    {
      "cell_type": "code",
      "source": [
        "import statsmodels.api as sm\n",
        "import statsmodels.formula.api as smf\n",
        "\n",
        "# data\n",
        "import pandas as pd\n",
        "data = {\n",
        "    'WeightLoss': [2.3, 2.9, 3.1, 1.8, 2.7, 3.0],\n",
        "    'Diet': ['A', 'B', 'B', 'A', 'C', 'C']\n",
        "}\n",
        "\n",
        "df = pd.DataFrame(data)\n",
        "\n",
        "# Assume df is a DataFrame with columns 'WeightLoss' and 'Diet' (categorical)\n",
        "model = smf.ols('WeightLoss ~ C(Diet)', data=df).fit()\n",
        "anova_table = sm.stats.anova_lm(model, typ=2)\n",
        "print(anova_table)\n"
      ],
      "metadata": {
        "colab": {
          "base_uri": "https://localhost:8080/"
        },
        "id": "RnZheszLNB6J",
        "outputId": "84836b6d-5452-4a67-ee10-9385f5c515e9"
      },
      "execution_count": null,
      "outputs": [
        {
          "output_type": "stream",
          "name": "stdout",
          "text": [
            "            sum_sq   df         F    PR(>F)\n",
            "C(Diet)   1.043333  2.0  8.236842  0.060466\n",
            "Residual  0.190000  3.0       NaN       NaN\n"
          ]
        }
      ]
    },
    {
      "cell_type": "code",
      "source": [
        "# prompt: give a simple example of Linear Models and ANOVA\n",
        "\n",
        "import pandas as pd\n",
        "import matplotlib.pyplot as plt\n",
        "import numpy as np\n",
        "# Linear Model (Simple Regression Example)\n",
        "# Generate sample data\n",
        "np.random.seed(1)\n",
        "x = np.random.rand(50, 1) * 10  # Independent variable\n",
        "y = 2 * x + 1 + np.random.randn(50, 1) * 2 # Dependent variable with noise\n",
        "\n",
        "# Fit a simple linear regression model\n",
        "model = LinearRegression()\n",
        "model.fit(x, y)\n",
        "\n",
        "# Print coefficients\n",
        "print(\"--- Simple Linear Regression ---\")\n",
        "print(f\"Intercept: {model.intercept_[0]:.4f}\")\n",
        "print(f\"Coefficient (Slope): {model.coef_[0][0]:.4f}\")\n",
        "print(\"-\" * 30)\n",
        "\n",
        "# Plot the data and the fitted line\n",
        "plt.scatter(x, y, color='blue')\n",
        "plt.plot(x, model.predict(x), color='red')\n",
        "plt.xlabel('Independent Variable')\n",
        "plt.ylabel('Dependent Variable')\n",
        "plt.title('Simple Linear Regression Example')\n",
        "plt.grid(True)\n",
        "plt.show()\n",
        "\n",
        "\n",
        "# ANOVA Example (using the previous Diet data)\n",
        "# Data is already defined as df in the preceding code\n",
        "# data = {\n",
        "#     'WeightLoss': [2.3, 2.9, 3.1, 1.8, 2.7, 3.0],\n",
        "#     'Diet': ['A', 'B', 'B', 'A', 'C', 'C']\n",
        "# }\n",
        "# df = pd.DataFrame(data)\n",
        "\n",
        "# Fit an OLS model with the categorical variable 'Diet'\n",
        "# C(Diet) tells statsmodels to treat 'Diet' as a categorical variable\n",
        "print(\"--- ANOVA using OLS ---\")\n",
        "model_anova = smf.ols('WeightLoss ~ C(Diet)', data=df).fit()\n",
        "\n",
        "# Perform the ANOVA test\n",
        "anova_table = sm.stats.anova_lm(model_anova, typ=2) # typ=2 is a common type for unbalanced designs\n",
        "print(anova_table)\n",
        "print(\"-\" * 30)\n",
        "\n",
        "# Interpretation of ANOVA output:\n",
        "# The 'PR(>F)' column is the p-value for the 'C(Diet)' factor.\n",
        "# If this p-value is less than your chosen significance level (e.g., 0.05),\n",
        "# you reject the null hypothesis and conclude that there is a significant difference\n",
        "# in 'WeightLoss' means across the different 'Diet' groups."
      ],
      "metadata": {
        "colab": {
          "base_uri": "https://localhost:8080/",
          "height": 628
        },
        "id": "SYVYoiYALn4o",
        "outputId": "c51817d9-ced6-4edf-da3a-ed129cc892ad"
      },
      "execution_count": null,
      "outputs": [
        {
          "output_type": "stream",
          "name": "stdout",
          "text": [
            "--- Simple Linear Regression ---\n",
            "Intercept: 1.0028\n",
            "Coefficient (Slope): 2.0544\n",
            "------------------------------\n"
          ]
        },
        {
          "output_type": "display_data",
          "data": {
            "text/plain": [
              "<Figure size 640x480 with 1 Axes>"
            ],
            "image/png": "[encoded data removed]"
          },
          "metadata": {}
        },
        {
          "output_type": "stream",
          "name": "stdout",
          "text": [
            "--- ANOVA using OLS ---\n",
            "            sum_sq   df         F    PR(>F)\n",
            "C(Diet)   1.043333  2.0  8.236842  0.060466\n",
            "Residual  0.190000  3.0       NaN       NaN\n",
            "------------------------------\n"
          ]
        }
      ]
    },
    {
      "cell_type": "markdown",
      "source": [
        "# Design Matrices for Linear Models\n",
        "A design matrix (also called the model matrix or feature matrix) is a structured way to represent input data for use in linear regression or ANOVA.\n",
        "\n",
        "**Structure:**\n",
        "Suppose you want to model:\n",
        "$y = \\beta_0 + \\beta_1x + ϵ$\n",
        "\n",
        "The design matrix $X$ for $n$ observations and 2 features would look like:\n",
        "\n"
      ],
      "metadata": {
        "id": "SBpFNwxiO7Ng"
      }
    },
    {
      "cell_type": "markdown",
      "source": [
        "# Ridge Regression\n",
        "Ridge Regression is a type of linear regression that includes a penalty term to reduce overfitting by shrinking the coefficients.\n",
        "\n",
        "**Why Use It?**\n",
        "* Multicollinearity (features are correlated)\n",
        "* Too many features\n",
        "* Overfitting in standard linear regression\n",
        "\n",
        "Ridge Regression helps by penalizing large coefficients.\n",
        "\n",
        "**The Formula:**\n",
        "Ridge modifies the loss function of linear regression:\n",
        "\n",
        "$Loss = \\Sigma(y_i - \\hat{y_i})^2 + \\lambda \\Sigma\\beta_j^2$\n",
        "\n",
        "* First term = usual squared error\n",
        "* Second term = L2 penalty (squares of coefficients)\n",
        "* $λ$= regularization strength (higher = more shrinkage)\n",
        "\n",
        "**Effect:**\n",
        "* Keeps all features in the model.\n",
        "* Shrinks coefficients toward 0 (but not exactly 0).\n"
      ],
      "metadata": {
        "id": "nfOTlLswdEBe"
      }
    },
    {
      "cell_type": "code",
      "source": [
        "from sklearn.linear_model import Ridge\n",
        "import numpy as np\n",
        "\n",
        "# Sample data\n",
        "X = np.array([[1], [2], [3]])\n",
        "y = np.array([1, 2, 3])\n",
        "\n",
        "# Fit ridge regression\n",
        "ridge = Ridge(alpha=1.0)\n",
        "ridge.fit(X, y)\n",
        "\n",
        "print(\"Coefficient:\", ridge.coef_)\n",
        "print(\"Intercept:\", ridge.intercept_)\n"
      ],
      "metadata": {
        "id": "xL0HyhFQgdhE",
        "outputId": "0bc1af2a-45b9-4374-a4be-5146966188f3",
        "colab": {
          "base_uri": "https://localhost:8080/"
        }
      },
      "execution_count": null,
      "outputs": [
        {
          "output_type": "stream",
          "name": "stdout",
          "text": [
            "Coefficient: [0.66666667]\n",
            "Intercept: 0.6666666666666663\n"
          ]
        }
      ]
    },
    {
      "cell_type": "code",
      "source": [
        "# prompt: give a simple example of ridge regression\n",
        "\n",
        "import numpy as np\n",
        "# Generate some more complex data for demonstration\n",
        "np.random.seed(42)\n",
        "# Create correlated features to show Ridge's effect on multicollinearity\n",
        "X_ridge = 2 * np.random.rand(100, 1)\n",
        "X_ridge = np.c_[X_ridge, X_ridge + np.random.randn(100, 1) * 0.5] # Add a second correlated feature\n",
        "y_ridge = 4 + 3 * X_ridge[:, 0].reshape(-1, 1) + np.random.randn(100, 1)\n",
        "\n",
        "# Split data\n",
        "X_train_r, X_test_r, y_train_r, y_test_r = train_test_split(X_ridge, y_ridge, test_size=0.2, random_state=42)\n",
        "\n",
        "# Create a Linear Regression model for comparison\n",
        "linear_reg = LinearRegression()\n",
        "linear_reg.fit(X_train_r, y_train_r)\n",
        "y_pred_linear = linear_reg.predict(X_test_r)\n",
        "mse_linear = mean_squared_error(y_test_r, y_pred_linear)\n",
        "r2_linear = r2_score(y_test_r, y_pred_linear)\n",
        "\n",
        "print(\"--- Linear Regression (for comparison) ---\")\n",
        "print(\"Intercept:\", linear_reg.intercept_)\n",
        "print(\"Coefficients:\", linear_reg.coef_)\n",
        "print(\"MSE:\", mse_linear)\n",
        "print(\"R2:\", r2_linear)\n",
        "print(\"-\" * 30)\n",
        "\n",
        "\n",
        "# Create a Ridge Regression model\n",
        "# alpha is the regularization strength (lambda in the formula)\n",
        "# A higher alpha means stronger regularization\n",
        "ridge_reg = Ridge(alpha=1.0) # You can experiment with different alpha values\n",
        "\n",
        "# Train the Ridge model\n",
        "ridge_reg.fit(X_train_r, y_train_r)\n",
        "\n",
        "# Make predictions on the test data\n",
        "y_pred_ridge = ridge_reg.predict(X_test_r)\n",
        "\n",
        "# Print the coefficients and intercept\n",
        "print(\"--- Ridge Regression (alpha=1.0) ---\")\n",
        "print(\"Intercept:\", ridge_reg.intercept_)\n",
        "print(\"Coefficients:\", ridge_reg.coef_) # Notice these might be smaller than Linear Regression's\n",
        "\n",
        "# Evaluate the model\n",
        "mse_ridge = mean_squared_error(y_test_r, y_pred_ridge)\n",
        "r2_ridge = r2_score(y_test_r, y_pred_ridge)\n",
        "\n",
        "print(\"Mean Squared Error (MSE):\", mse_ridge)\n",
        "print(\"R-squared (R2):\", r2_ridge)\n",
        "print(\"-\" * 30)\n",
        "\n",
        "# Note: Ridge Regression is typically used when you have multiple features,\n",
        "# especially if they are correlated. The effect of regularization is more\n",
        "# apparent in those scenarios. In this 2D example (2 features), plotting\n",
        "# the fitted plane would be needed to visualize the difference.\n",
        "\n",
        "# Let's try a larger alpha to see more shrinkage\n",
        "ridge_reg_strong = Ridge(alpha=100.0)\n",
        "ridge_reg_strong.fit(X_train_r, y_train_r)\n",
        "y_pred_ridge_strong = ridge_reg_strong.predict(X_test_r)\n",
        "mse_ridge_strong = mean_squared_error(y_test_r, y_pred_ridge_strong)\n",
        "r2_ridge_strong = r2_score(y_test_r, y_pred_ridge_strong)\n",
        "\n",
        "print(\"--- Ridge Regression (alpha=100.0) ---\")\n",
        "print(\"Intercept:\", ridge_reg_strong.intercept_)\n",
        "print(\"Coefficients:\", ridge_reg_strong.coef_) # Coefficients are shrunk more\n",
        "print(\"Mean Squared Error (MSE):\", mse_ridge_strong)\n",
        "print(\"R-squared (R2):\", r2_ridge_strong)\n",
        "print(\"-\" * 30)\n",
        "\n",
        "# You can see that as alpha increases, the coefficients get smaller.\n",
        "# The MSE and R2 values might change depending on how much regularization is beneficial\n",
        "# for the specific dataset and test set. Choosing the optimal alpha is usually done\n",
        "# through cross-validation."
      ],
      "metadata": {
        "id": "t4UMNO1fghy8",
        "outputId": "0e123648-07fb-4efc-ee41-44fc57f27e6a",
        "colab": {
          "base_uri": "https://localhost:8080/"
        }
      },
      "execution_count": null,
      "outputs": [
        {
          "output_type": "stream",
          "name": "stdout",
          "text": [
            "--- Linear Regression (for comparison) ---\n",
            "Intercept: [3.90965904]\n",
            "Coefficients: [[ 3.28590177 -0.33545429]]\n",
            "MSE: 2.2560175747010374\n",
            "R2: 0.5517851989839995\n",
            "------------------------------\n",
            "--- Ridge Regression (alpha=1.0) ---\n",
            "Intercept: [4.00172764]\n",
            "Coefficients: [ 3.02154725 -0.16535866]\n",
            "Mean Squared Error (MSE): 2.17074835022043\n",
            "R-squared (R2): 0.5687260814097177\n",
            "------------------------------\n",
            "--- Ridge Regression (alpha=100.0) ---\n",
            "Intercept: [5.80075905]\n",
            "Coefficients: [0.56316826 0.38458805]\n",
            "Mean Squared Error (MSE): 3.8132835167693377\n",
            "R-squared (R2): 0.24239503634502535\n",
            "------------------------------\n"
          ]
        }
      ]
    },
    {
      "cell_type": "markdown",
      "source": [
        "# Lasso Regression\n",
        "Lasso Regression (Least Absolute Shrinkage and Selection Operator) is a type of linear regression that uses L1 regularization to shrink some coefficients to exactly zero.\n",
        "\n",
        "$Loss = \\Sigma(y_i - \\hat{y_i})^2 + \\lambda \\Sigma|\\beta_j|$\n",
        "\n",
        "* The first term is the usual squared error.\n",
        "* The second term is the L1 penalty—sum of absolute values of coefficients.\n",
        "* $λ$ - regularization strength.\n",
        "\n",
        "**Why Use It?**\n",
        "* Performs feature selection by setting irrelevant coefficients to zero.\n",
        "* Useful when you suspect only a few predictors are important.\n",
        "\n",
        "| Feature           | Ridge Regression | Lasso Regression      |\n",
        "| ----------------- | ---------------- | --------------------- |\n",
        "| Penalty           | L2 (squared)     | L1 (absolute value)   |\n",
        "| Coefficients      | Shrinks toward 0 | Shrinks and zeros out |\n",
        "| Feature Selection | No               | Yes                   |\n",
        "\n",
        "\n"
      ],
      "metadata": {
        "id": "gq8xX_-6hLoF"
      }
    },
    {
      "cell_type": "code",
      "source": [
        "from sklearn.linear_model import Lasso\n",
        "import numpy as np\n",
        "\n",
        "# Sample data\n",
        "X = np.array([[1], [2], [3]])\n",
        "y = np.array([1, 2, 3])\n",
        "\n",
        "# Fit Lasso regression\n",
        "lasso = Lasso(alpha=0.1)\n",
        "lasso.fit(X, y)\n",
        "\n",
        "print(\"Coefficient:\", lasso.coef_)\n",
        "print(\"Intercept:\", lasso.intercept_)\n"
      ],
      "metadata": {
        "id": "eTz2-Tr3GSP_",
        "outputId": "4d21faf0-fb26-4de8-9d71-20fd0f682fae",
        "colab": {
          "base_uri": "https://localhost:8080/"
        }
      },
      "execution_count": 1,
      "outputs": [
        {
          "output_type": "stream",
          "name": "stdout",
          "text": [
            "Coefficient: [0.85]\n",
            "Intercept: 0.30000000000000004\n"
          ]
        }
      ]
    },
    {
      "cell_type": "markdown",
      "source": [
        "# Regularization Elastic Net Regression\n",
        "Elastic Net Regression combines Ridge (L2) and Lasso (L1) regularization. It's useful when you want:\n",
        "* Feature selection (like Lasso)\n",
        "* Stability with correlated features (like Ridge)\n",
        "\n",
        "**Loss Function:**\n",
        "\n",
        "$Loss = \\Sigma(y_i - \\hat{y_i})^2 + \\lambda_1 \\Sigma|\\beta_j| + \\lambda_2 \\Sigma\\beta_j^2$\n",
        "\n",
        "Or more commonly:\n",
        "\n",
        "$Loss = \\Sigma(y_i - \\hat{y_i})^2 + \\alpha (\\rho \\Sigma|\\beta_j| + (1-\\rho)\\Sigma\\beta_j^2)$\n",
        "\n",
        "* $\\alpha$L controls overall strength\n",
        "* $\\rho$: mixes Lasso ($\\rho=1$) and Ridge ($\\rho=0$)\n"
      ],
      "metadata": {
        "id": "aViDfKoUJn5l"
      }
    },
    {
      "cell_type": "code",
      "source": [
        "from sklearn.linear_model import ElasticNet\n",
        "import numpy as np\n",
        "\n",
        "# Sample data\n",
        "X = np.array([[1, 1], [2, 2], [3, 3]])\n",
        "y = np.array([1, 2, 3])\n",
        "\n",
        "# Fit Elastic Net\n",
        "model = ElasticNet(alpha=0.1, l1_ratio=0.5)  # l1_ratio=1 -> Lasso, 0 -> Ridge\n",
        "model.fit(X, y)\n",
        "\n",
        "print(\"Coefficients:\", model.coef_)\n",
        "print(\"Intercept:\", model.intercept_)\n"
      ],
      "metadata": {
        "id": "GnrTqXowK_dF",
        "outputId": "35f58063-7e93-429d-c020-cb77142c019d",
        "colab": {
          "base_uri": "https://localhost:8080/"
        }
      },
      "execution_count": 2,
      "outputs": [
        {
          "output_type": "stream",
          "name": "stdout",
          "text": [
            "Coefficients: [0.44604258 0.44554178]\n",
            "Intercept: 0.21683126770908823\n"
          ]
        }
      ]
    },
    {
      "cell_type": "markdown",
      "source": [
        "# Gradient Descent\n",
        "Gradient Descent is an optimization algorithm used to minimize a function—commonly the loss function in machine learning models.\n",
        "\n",
        "In linear regression, gradient descent finds the best-fit line by iteratively adjusting the model parameters to minimize the sum of squared errors (SSE).\n",
        "\n",
        "**Update Rule for Linear Regression:**\n",
        "If your model is:\n",
        "\n",
        "$\\hat{y} = \\beta_0 + \\beta_1x$\n",
        "\n",
        "Then the update rules are:\n",
        "\n",
        "$\\beta_0 = \\beta_0 - \\alpha \\frac{∂L}{\\partial \\beta_0}$\n",
        "\n",
        "$\\beta_1 = \\beta_1 - \\alpha \\frac{∂L}{\\partial \\beta_1}$\n",
        "\n",
        "* $\\alpha$:  learning rate (step size)\n",
        "* $\\frac{∂L}{\\partial \\beta_j}$: partial derivative (gradient) of loss with respect to parameter\n",
        "\n",
        "**Steps:**\n",
        "\n",
        "1. Initialize parameters (random or zeros)\n",
        "2. Compute predictions\n",
        "3. Calculate loss (e.g., MSE)\n",
        "4. Compute gradients\n",
        "5. Update parameters\n",
        "6. Repeat until convergence\n"
      ],
      "metadata": {
        "id": "rYT0F_wsL9-V"
      }
    },
    {
      "cell_type": "code",
      "source": [
        "import numpy as np\n",
        "\n",
        "# Data\n",
        "x = np.array([1, 2, 3])\n",
        "y = np.array([2, 4, 6])\n",
        "\n",
        "# Initialize parameters\n",
        "b0, b1 = 0.0, 0.0\n",
        "alpha = 0.01\n",
        "epochs = 1000\n",
        "n = len(x)\n",
        "\n",
        "# Gradient Descent Loop\n",
        "for _ in range(epochs):\n",
        "    y_pred = b0 + b1 * x\n",
        "    error = y - y_pred\n",
        "    db0 = -2 * np.sum(error) / n\n",
        "    db1 = -2 * np.sum(error * x) / n\n",
        "    b0 -= alpha * db0\n",
        "    b1 -= alpha * db1\n",
        "\n",
        "print(f\"Intercept: {b0:.2f}, Slope: {b1:.2f}\")\n"
      ],
      "metadata": {
        "id": "ygcS3wrLSCW1",
        "outputId": "ff1afe3f-349c-498b-dd4e-f63ce4bb5b9c",
        "colab": {
          "base_uri": "https://localhost:8080/"
        }
      },
      "execution_count": 3,
      "outputs": [
        {
          "output_type": "stream",
          "name": "stdout",
          "text": [
            "Intercept: 0.07, Slope: 1.97\n"
          ]
        }
      ]
    },
    {
      "cell_type": "code",
      "source": [
        "# prompt: give an example of Gradient Descent\n",
        "\n",
        "import matplotlib.pyplot as plt\n",
        "import numpy as np\n",
        "# Example of Gradient Descent for Simple Linear Regression\n",
        "\n",
        "# Data\n",
        "x = np.array([1, 2, 3, 4, 5]) # Independent variable\n",
        "y = np.array([5, 7, 9, 11, 15]) # Dependent variable (with perfect linear relationship y = 2x + 3)\n",
        "\n",
        "# Initialize parameters (start with some random values)\n",
        "beta_0 = 0.0 # Intercept\n",
        "beta_1 = 0.0 # Slope\n",
        "\n",
        "# Hyperparameters\n",
        "learning_rate = 0.01 # How big of a step to take\n",
        "epochs = 1000 # How many iterations to run\n",
        "\n",
        "# Number of data points\n",
        "n = len(x)\n",
        "\n",
        "# Gradient Descent Loop\n",
        "print(\"Starting Gradient Descent...\")\n",
        "for epoch in range(epochs):\n",
        "    # 1. Make predictions\n",
        "    y_pred = beta_0 + beta_1 * x\n",
        "\n",
        "    # 2. Calculate the error (residual)\n",
        "    error = y - y_pred\n",
        "\n",
        "    # 3. Compute the gradients (partial derivatives of the MSE loss function)\n",
        "    # Gradient with respect to beta_0 (intercept)\n",
        "    # d(Loss)/d(beta_0) = -2/n * sum(error)\n",
        "    gradient_beta_0 = -2 * np.sum(error) / n\n",
        "\n",
        "    # Gradient with respect to beta_1 (slope)\n",
        "    # d(Loss)/d(beta_1) = -2/n * sum(error * x)\n",
        "    gradient_beta_1 = -2 * np.sum(error * x) / n\n",
        "\n",
        "    # 4. Update the parameters\n",
        "    beta_0 = beta_0 - learning_rate * gradient_beta_0\n",
        "    beta_1 = beta_1 - learning_rate * gradient_beta_1\n",
        "\n",
        "    # Optional: Print progress every now and then\n",
        "    if (epoch + 1) % 100 == 0:\n",
        "        # Calculate Current Loss (Mean Squared Error)\n",
        "        current_loss = np.mean(error**2)\n",
        "        print(f\"Epoch {epoch+1}/{epochs}: Loss = {current_loss:.4f}, Beta_0 = {beta_0:.4f}, Beta_1 = {beta_1:.4f}\")\n",
        "\n",
        "print(\"\\nGradient Descent Finished.\")\n",
        "print(f\"Final Intercept (beta_0): {beta_0:.4f}\")\n",
        "print(f\"Final Slope (beta_1): {beta_1:.4f}\")\n",
        "\n",
        "# Plot the data and the final fitted line\n",
        "plt.scatter(x, y, color='blue', label='Actual data')\n",
        "plt.plot(x, beta_0 + beta_1 * x, color='red', label=f'Fitted line: y={beta_1:.2f}x + {beta_0:.2f}')\n",
        "plt.xlabel(\"x\")\n",
        "plt.ylabel(\"y\")\n",
        "plt.title(\"Gradient Descent Example for Linear Regression\")\n",
        "plt.legend()\n",
        "plt.grid(True)\n",
        "plt.show()"
      ],
      "metadata": {
        "id": "pMK-BZmPSutt",
        "outputId": "76678c8e-7cea-4edd-ebac-d0b483edcef3",
        "colab": {
          "base_uri": "https://localhost:8080/",
          "height": 732
        }
      },
      "execution_count": 7,
      "outputs": [
        {
          "output_type": "stream",
          "name": "stdout",
          "text": [
            "Starting Gradient Descent...\n",
            "Epoch 100/1000: Loss = 0.5093, Beta_0 = 1.1838, Beta_1 = 2.6815\n",
            "Epoch 200/1000: Loss = 0.4161, Beta_0 = 1.4757, Beta_1 = 2.6006\n",
            "Epoch 300/1000: Loss = 0.3688, Beta_0 = 1.6838, Beta_1 = 2.5430\n",
            "Epoch 400/1000: Loss = 0.3448, Beta_0 = 1.8321, Beta_1 = 2.5019\n",
            "Epoch 500/1000: Loss = 0.3326, Beta_0 = 1.9378, Beta_1 = 2.4726\n",
            "Epoch 600/1000: Loss = 0.3264, Beta_0 = 2.0131, Beta_1 = 2.4518\n",
            "Epoch 700/1000: Loss = 0.3233, Beta_0 = 2.0668, Beta_1 = 2.4369\n",
            "Epoch 800/1000: Loss = 0.3217, Beta_0 = 2.1051, Beta_1 = 2.4263\n",
            "Epoch 900/1000: Loss = 0.3208, Beta_0 = 2.1323, Beta_1 = 2.4187\n",
            "Epoch 1000/1000: Loss = 0.3204, Beta_0 = 2.1518, Beta_1 = 2.4134\n",
            "\n",
            "Gradient Descent Finished.\n",
            "Final Intercept (beta_0): 2.1518\n",
            "Final Slope (beta_1): 2.4134\n"
          ]
        },
        {
          "output_type": "display_data",
          "data": {
            "text/plain": [
              "<Figure size 640x480 with 1 Axes>"
            ],
            "image/png": "[encoded data removed]"
          },
          "metadata": {}
        }
      ]
    },
    {
      "cell_type": "markdown",
      "source": [
        "# Stochastic Gradient Descent (SGD)\n",
        "Stochastic Gradient Descent is a faster, more scalable version of traditional (batch) gradient descent. Instead of using all training data to compute gradients at each step, SGD uses just one sample at a time.\n",
        "\n",
        "**Why Use SGD?**\n",
        "* Efficient for large datasets\n",
        "* Allows online learning (update as data comes in)\n",
        "* Introduces randomness, which can help escape local minima\n",
        "\n",
        "Given one data point $(x_i, y_i)$, the update becomes:\n",
        "$\\beta_j = \\beta_j - \\alpha \\frac{∂L_j}{\\partial \\beta_j} $\n",
        ", where $L_j$ is the loss for that single point\n",
        "\n",
        "**SGD Process:**\n",
        "1. Initialize parameters\n",
        "2. For each epoch:\n",
        "  * Shuffle the data\n",
        "  * For each data point:\n",
        "    - Compute prediction\n",
        "    - Calculate gradient\n",
        "    - Update weights\n",
        "\n",
        "| Method           | Data per Step | Speed  | Stability |\n",
        "| ---------------- | ------------- | ------ | --------- |\n",
        "| Batch Gradient   | All           | Slower | Smooth    |\n",
        "| Stochastic (SGD) | One           | Faster | Noisy     |\n"
      ],
      "metadata": {
        "id": "UzYJ3gkEmPtj"
      }
    },
    {
      "cell_type": "code",
      "source": [
        "import numpy as np\n",
        "\n",
        "# Data\n",
        "x = np.array([1, 2, 3])\n",
        "y = np.array([2, 4, 6])\n",
        "\n",
        "# Initialize parameters\n",
        "b0, b1 = 0.0, 0.0\n",
        "alpha = 0.01\n",
        "epochs = 100\n",
        "\n",
        "# SGD Loop\n",
        "for _ in range(epochs):\n",
        "    for i in range(len(x)):\n",
        "        y_pred = b0 + b1 * x[i]\n",
        "        error = y[i] - y_pred\n",
        "        b0 += alpha * error\n",
        "        b1 += alpha * error * x[i]\n",
        "\n",
        "print(f\"Intercept: {b0:.2f}, Slope: {b1:.2f}\")\n"
      ],
      "metadata": {
        "id": "sKly-ir9nutH",
        "outputId": "e4c07e05-0f2b-4251-8e27-fe9d9202e78e",
        "colab": {
          "base_uri": "https://localhost:8080/"
        }
      },
      "execution_count": 1,
      "outputs": [
        {
          "output_type": "stream",
          "name": "stdout",
          "text": [
            "Intercept: 0.52, Slope: 1.78\n"
          ]
        }
      ]
    },
    {
      "cell_type": "code",
      "source": [
        "# prompt: give an example of Stochastic Gradient Descent\n",
        "\n",
        "import matplotlib.pyplot as plt\n",
        "import numpy as np\n",
        "# Example of Stochastic Gradient Descent (SGD) for Simple Linear Regression\n",
        "\n",
        "# Data (same as Gradient Descent example)\n",
        "x = np.array([1, 2, 3, 4, 5]) # Independent variable\n",
        "y = np.array([5, 7, 9, 11, 15]) # Dependent variable\n",
        "\n",
        "# Initialize parameters (start with some random values)\n",
        "beta_0 = 0.0 # Intercept\n",
        "beta_1 = 0.0 # Slope\n",
        "\n",
        "# Hyperparameters\n",
        "learning_rate = 0.01 # How big of a step to take\n",
        "epochs = 100 # How many times to loop through the dataset\n",
        "\n",
        "# Number of data points\n",
        "n = len(x)\n",
        "\n",
        "# Combine x and y for shuffling\n",
        "data = np.c_[x, y]\n",
        "\n",
        "# SGD Loop\n",
        "print(\"Starting Stochastic Gradient Descent...\")\n",
        "for epoch in range(epochs):\n",
        "    # Shuffle data for each epoch\n",
        "    np.random.shuffle(data)\n",
        "    x_shuffled = data[:, 0]\n",
        "    y_shuffled = data[:, 1]\n",
        "\n",
        "    for i in range(n):\n",
        "        # Get a single data point\n",
        "        x_i = x_shuffled[i]\n",
        "        y_i = y_shuffled[i]\n",
        "\n",
        "        # 1. Make prediction for this single data point\n",
        "        y_pred_i = beta_0 + beta_1 * x_i\n",
        "\n",
        "        # 2. Calculate the error for this single data point\n",
        "        error_i = y_i - y_pred_i\n",
        "\n",
        "        # 3. Compute the gradients for this single data point\n",
        "        # Gradient with respect to beta_0 (intercept)\n",
        "        # Note: For a single point, the gradient is simply -2 * error_i * (derivative of (beta_0)) which is -2 * error_i * 1\n",
        "        # We can simplify the update by ignoring the constant -2/n and adjusting the learning rate accordingly.\n",
        "        # Common update rules often look like this:\n",
        "        gradient_beta_0 = -error_i # Or -2 * error_i if scaling is needed and alpha is adjusted\n",
        "\n",
        "        # Gradient with respect to beta_1 (slope)\n",
        "        # d(Loss_i)/d(beta_1) = -2 * error_i * x_i\n",
        "        gradient_beta_1 = -error_i * x_i # Or -2 * error_i * x_i\n",
        "\n",
        "        # 4. Update the parameters using the gradient from this single point\n",
        "        beta_0 = beta_0 - learning_rate * gradient_beta_0\n",
        "        beta_1 = beta_1 - learning_rate * gradient_beta_1\n",
        "\n",
        "    # Optional: Print progress every now and then (loss is harder to interpret per epoch for SGD)\n",
        "    if (epoch + 1) % 10 == 0:\n",
        "         # Calculate MSE over the whole dataset at the end of the epoch for monitoring\n",
        "        y_pred_epoch_end = beta_0 + beta_1 * x\n",
        "        current_loss = np.mean((y - y_pred_epoch_end)**2)\n",
        "        print(f\"Epoch {epoch+1}/{epochs}: Approx. Loss = {current_loss:.4f}, Beta_0 = {beta_0:.4f}, Beta_1 = {beta_1:.4f}\")\n",
        "\n",
        "\n",
        "print(\"\\nStochastic Gradient Descent Finished.\")\n",
        "print(f\"Final Intercept (beta_0): {beta_0:.4f}\")\n",
        "print(f\"Final Slope (beta_1): {beta_1:.4f}\")\n",
        "\n",
        "\n",
        "# Plot the data and the final fitted line\n",
        "plt.scatter(x, y, color='blue', label='Actual data')\n",
        "plt.plot(x, beta_0 + beta_1 * x, color='red', label=f'Fitted line: y={beta_1:.2f}x + {beta_0:.2f}')\n",
        "plt.xlabel(\"x\")\n",
        "plt.ylabel(\"y\")\n",
        "plt.title(\"Stochastic Gradient Descent Example for Linear Regression\")\n",
        "plt.legend()\n",
        "plt.grid(True)\n",
        "plt.show()"
      ],
      "metadata": {
        "id": "4tljGPffoEUO",
        "outputId": "6986c687-9e32-4b3a-9859-c164f7ab5130",
        "colab": {
          "base_uri": "https://localhost:8080/",
          "height": 732
        }
      },
      "execution_count": 2,
      "outputs": [
        {
          "output_type": "stream",
          "name": "stdout",
          "text": [
            "Starting Stochastic Gradient Descent...\n",
            "Epoch 10/100: Approx. Loss = 0.6521, Beta_0 = 0.8497, Beta_1 = 2.7614\n",
            "Epoch 20/100: Approx. Loss = 0.5999, Beta_0 = 0.9600, Beta_1 = 2.7322\n",
            "Epoch 30/100: Approx. Loss = 0.5553, Beta_0 = 1.0657, Beta_1 = 2.7205\n",
            "Epoch 40/100: Approx. Loss = 0.5191, Beta_0 = 1.1537, Beta_1 = 2.6846\n",
            "Epoch 50/100: Approx. Loss = 0.4896, Beta_0 = 1.2405, Beta_1 = 2.6760\n",
            "Epoch 60/100: Approx. Loss = 0.4641, Beta_0 = 1.3188, Beta_1 = 2.6566\n",
            "Epoch 70/100: Approx. Loss = 0.4423, Beta_0 = 1.3889, Beta_1 = 2.6367\n",
            "Epoch 80/100: Approx. Loss = 0.4222, Beta_0 = 1.4504, Beta_1 = 2.6065\n",
            "Epoch 90/100: Approx. Loss = 0.4078, Beta_0 = 1.5079, Beta_1 = 2.5805\n",
            "Epoch 100/100: Approx. Loss = 0.3955, Beta_0 = 1.5670, Beta_1 = 2.5883\n",
            "\n",
            "Stochastic Gradient Descent Finished.\n",
            "Final Intercept (beta_0): 1.5670\n",
            "Final Slope (beta_1): 2.5883\n"
          ]
        },
        {
          "output_type": "display_data",
          "data": {
            "text/plain": [
              "<Figure size 640x480 with 1 Axes>"
            ],
            "image/png": "[encoded data removed]"
          },
          "metadata": {}
        }
      ]
    }
  ]
}