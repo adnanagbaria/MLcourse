{
  "nbformat": 4,
  "nbformat_minor": 0,
  "metadata": {
    "colab": {
      "provenance": [],
      "authorship_tag": "ABX9TyN9dCnyLjx+xJ66V9OQXRbv",
      "include_colab_link": true
    },
    "kernelspec": {
      "name": "python3",
      "display_name": "Python 3"
    },
    "language_info": {
      "name": "python"
    }
  },
  "cells": [
    {
      "cell_type": "markdown",
      "metadata": {
        "id": "view-in-github",
        "colab_type": "text"
      },
      "source": [
        "<a href=\"https://colab.research.google.com/github/adnanagbaria/MLcourse/blob/main/Lec4_regression.ipynb\" target=\"_parent\"><img src=\"https://colab.research.google.com/assets/colab-badge.svg\" alt=\"Open In Colab\"/></a>"
      ]
    },
    {
      "cell_type": "markdown",
      "source": [
        "# Regression\n",
        "Agenda:\n",
        "* Regression tasks in ML\n",
        "* The main Idea of Fitting a Line to Data\n",
        "* Linear Regression\n",
        "* Multiple Linear Regression\n",
        "* Using Linear models for t-tests and ANOVA\n",
        "* Design Matrices for Linear Models\n",
        "* Regularization L2: Ridge Regression\n",
        "* Regularization L1: Lasso Regression\n",
        "* Ridge and Lasso Regression Visualized\n",
        "* Regularization Elastic Net Regression\n",
        "* Assumptions of Linear Regression\n",
        "* Gradient Descent\n",
        "* Stochastic Gradient Descent"
      ],
      "metadata": {
        "id": "N0r95gZxAdVr"
      }
    }
  ]
}